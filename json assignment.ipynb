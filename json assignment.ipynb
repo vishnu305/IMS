{
 "cells": [
  {
   "cell_type": "code",
   "execution_count": 2,
   "metadata": {},
   "outputs": [],
   "source": [
    "record = { 11602259 : {\"name\": \"Ashish Jangra\" , \"Pno\": 1234, \"cgpa\" : 7.5},\n",
    "           11602260 : {\"name\": \"Gurpreet Singh\", \"Pno\": 5678, \"cgpa\" : 8},\n",
    "           11602261 : {\"name\": \"Rishu Kumar\"   , \"Pno\": 8984, \"cgpa\" : 7.8}}"
   ]
  },
  {
   "cell_type": "code",
   "execution_count": 3,
   "metadata": {},
   "outputs": [
    {
     "name": "stdout",
     "output_type": "stream",
     "text": [
      "Gurpreet Singh\n",
      "5678\n",
      "8\n"
     ]
    }
   ],
   "source": [
    "reg = 11602260\n",
    "\n",
    "print(record[reg]['name'])\n",
    "print(record[reg]['Pno'])\n",
    "print(record[reg]['cgpa'])"
   ]
  },
  {
   "cell_type": "code",
   "execution_count": 4,
   "metadata": {},
   "outputs": [],
   "source": [
    "record[11602260]['Pno'] = 999"
   ]
  },
  {
   "cell_type": "code",
   "execution_count": 5,
   "metadata": {},
   "outputs": [
    {
     "data": {
      "text/plain": [
       "{11602259: {'name': 'Ashish Jangra', 'Pno': 1234, 'cgpa': 7.5},\n",
       " 11602260: {'name': 'Gurpreet Singh', 'Pno': 999, 'cgpa': 8},\n",
       " 11602261: {'name': 'Rishu Kumar', 'Pno': 8984, 'cgpa': 7.8}}"
      ]
     },
     "execution_count": 5,
     "metadata": {},
     "output_type": "execute_result"
    }
   ],
   "source": [
    "\n",
    "record"
   ]
  },
  {
   "cell_type": "code",
   "execution_count": 6,
   "metadata": {},
   "outputs": [],
   "source": [
    "record = { 11602259 : {\"name\": \"Ashish Jangra\" , \"Pno\": 1234, \"cgpa\" : 7.5},\n",
    "           11602260 : {\"name\": \"Gurpreet Singh\", \"Pno\": 5678, \"cgpa\" : 8.2},\n",
    "           11602261 : {\"name\": \"Rishu Kumar\"   , \"Pno\": 8984, \"cgpa\" : 7.8}}"
   ]
  },
  {
   "cell_type": "code",
   "execution_count": 7,
   "metadata": {},
   "outputs": [],
   "source": [
    "import json"
   ]
  },
  {
   "cell_type": "code",
   "execution_count": 8,
   "metadata": {},
   "outputs": [],
   "source": [
    "js = json.dumps(record)"
   ]
  },
  {
   "cell_type": "code",
   "execution_count": 9,
   "metadata": {},
   "outputs": [
    {
     "data": {
      "text/plain": [
       "'{\"11602259\": {\"name\": \"Ashish Jangra\", \"Pno\": 1234, \"cgpa\": 7.5}, \"11602260\": {\"name\": \"Gurpreet Singh\", \"Pno\": 5678, \"cgpa\": 8.2}, \"11602261\": {\"name\": \"Rishu Kumar\", \"Pno\": 8984, \"cgpa\": 7.8}}'"
      ]
     },
     "execution_count": 9,
     "metadata": {},
     "output_type": "execute_result"
    }
   ],
   "source": [
    "js"
   ]
  },
  {
   "cell_type": "code",
   "execution_count": 10,
   "metadata": {},
   "outputs": [
    {
     "data": {
      "text/plain": [
       "{11602259: {'name': 'Ashish Jangra', 'Pno': 1234, 'cgpa': 7.5},\n",
       " 11602260: {'name': 'Gurpreet Singh', 'Pno': 5678, 'cgpa': 8.2},\n",
       " 11602261: {'name': 'Rishu Kumar', 'Pno': 8984, 'cgpa': 7.8}}"
      ]
     },
     "execution_count": 10,
     "metadata": {},
     "output_type": "execute_result"
    }
   ],
   "source": [
    "record"
   ]
  },
  {
   "cell_type": "code",
   "execution_count": 11,
   "metadata": {},
   "outputs": [
    {
     "data": {
      "text/plain": [
       "str"
      ]
     },
     "execution_count": 11,
     "metadata": {},
     "output_type": "execute_result"
    }
   ],
   "source": [
    "type(js)"
   ]
  },
  {
   "cell_type": "code",
   "execution_count": 12,
   "metadata": {},
   "outputs": [
    {
     "data": {
      "text/plain": [
       "dict"
      ]
     },
     "execution_count": 12,
     "metadata": {},
     "output_type": "execute_result"
    }
   ],
   "source": [
    "type(record)"
   ]
  },
  {
   "cell_type": "code",
   "execution_count": 13,
   "metadata": {},
   "outputs": [],
   "source": [
    "fd = open(\"record.txt\",'w')\n",
    "\n",
    "fd.write(js)\n",
    "\n",
    "fd.close()"
   ]
  },
  {
   "cell_type": "code",
   "execution_count": 14,
   "metadata": {},
   "outputs": [],
   "source": [
    "fd = open(\"record.txt\",'r')\n",
    "\n",
    "txt = fd.read()\n",
    "\n",
    "fd.close()"
   ]
  },
  {
   "cell_type": "code",
   "execution_count": 15,
   "metadata": {},
   "outputs": [
    {
     "data": {
      "text/plain": [
       "'{\"11602259\": {\"name\": \"Ashish Jangra\", \"Pno\": 1234, \"cgpa\": 7.5}, \"11602260\": {\"name\": \"Gurpreet Singh\", \"Pno\": 5678, \"cgpa\": 8.2}, \"11602261\": {\"name\": \"Rishu Kumar\", \"Pno\": 8984, \"cgpa\": 7.8}}'"
      ]
     },
     "execution_count": 15,
     "metadata": {},
     "output_type": "execute_result"
    }
   ],
   "source": [
    "txt"
   ]
  },
  {
   "cell_type": "code",
   "execution_count": 16,
   "metadata": {},
   "outputs": [],
   "source": [
    "record = json.loads(txt)"
   ]
  },
  {
   "cell_type": "code",
   "execution_count": 17,
   "metadata": {},
   "outputs": [
    {
     "data": {
      "text/plain": [
       "{'11602259': {'name': 'Ashish Jangra', 'Pno': 1234, 'cgpa': 7.5},\n",
       " '11602260': {'name': 'Gurpreet Singh', 'Pno': 5678, 'cgpa': 8.2},\n",
       " '11602261': {'name': 'Rishu Kumar', 'Pno': 8984, 'cgpa': 7.8}}"
      ]
     },
     "execution_count": 17,
     "metadata": {},
     "output_type": "execute_result"
    }
   ],
   "source": [
    "record"
   ]
  },
  {
   "cell_type": "code",
   "execution_count": 18,
   "metadata": {},
   "outputs": [
    {
     "data": {
      "text/plain": [
       "{'name': 'Ashish Jangra', 'Pno': 1234, 'cgpa': 7.5}"
      ]
     },
     "execution_count": 18,
     "metadata": {},
     "output_type": "execute_result"
    }
   ],
   "source": [
    "record['11602259']"
   ]
  },
  {
   "cell_type": "code",
   "execution_count": 19,
   "metadata": {},
   "outputs": [],
   "source": [
    "import time"
   ]
  },
  {
   "cell_type": "code",
   "execution_count": 20,
   "metadata": {},
   "outputs": [
    {
     "data": {
      "text/plain": [
       "'Fri Sep  3 12:47:02 2021'"
      ]
     },
     "execution_count": 20,
     "metadata": {},
     "output_type": "execute_result"
    }
   ],
   "source": [
    "time.ctime()"
   ]
  },
  {
   "cell_type": "code",
   "execution_count": 21,
   "metadata": {},
   "outputs": [
    {
     "data": {
      "text/plain": [
       "dict_values([{'name': 'Ashish Jangra', 'Pno': 1234, 'cgpa': 7.5}, {'name': 'Gurpreet Singh', 'Pno': 5678, 'cgpa': 8.2}, {'name': 'Rishu Kumar', 'Pno': 8984, 'cgpa': 7.8}])"
      ]
     },
     "execution_count": 21,
     "metadata": {},
     "output_type": "execute_result"
    }
   ],
   "source": [
    "record.values()"
   ]
  },
  {
   "cell_type": "code",
   "execution_count": null,
   "metadata": {},
   "outputs": [],
   "source": []
  }
 ],
 "metadata": {
  "kernelspec": {
   "display_name": "Python 3",
   "language": "python",
   "name": "python3"
  },
  "language_info": {
   "codemirror_mode": {
    "name": "ipython",
    "version": 3
   },
   "file_extension": ".py",
   "mimetype": "text/x-python",
   "name": "python",
   "nbconvert_exporter": "python",
   "pygments_lexer": "ipython3",
   "version": "3.7.6"
  }
 },
 "nbformat": 4,
 "nbformat_minor": 2
}
